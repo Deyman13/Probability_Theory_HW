{
 "cells": [
  {
   "attachments": {},
   "cell_type": "markdown",
   "metadata": {},
   "source": [
    "***Известно, что генеральная совокупность распределена нормально со средним квадратическим отклонением, равным 16.\n",
    "Найти доверительный интервал для оценки математического ожидания a с надежностью 0.95, если выборочная средняя M = 80, а объем выборки n = 256.***"
   ]
  },
  {
   "attachments": {},
   "cell_type": "markdown",
   "metadata": {},
   "source": [
    "Из этих данных известны:\n",
    "- sigma = 16 (сигма генеральной совокупности)\n",
    "- alpha = 1 - 0.95 = 0.05\n",
    "- mu = 80 (выборочная средняя)\n",
    "- n = 256 (объем выборки)"
   ]
  },
  {
   "attachments": {},
   "cell_type": "markdown",
   "metadata": {},
   "source": [
    "Так как известна сигма генеральной совокупности будем использовать Z-критерий.\n",
    "\n",
    "Формула нахождения интервала:\n",
    "- X +- z(alpha/2) * sigma/sqrt(n)"
   ]
  },
  {
   "cell_type": "code",
   "execution_count": 4,
   "metadata": {},
   "outputs": [
    {
     "data": {
      "text/plain": [
       "(78.04003601545995, 81.95996398454005)"
      ]
     },
     "execution_count": 4,
     "metadata": {},
     "output_type": "execute_result"
    }
   ],
   "source": [
    "import numpy as np\n",
    "import scipy.stats as stats\n",
    "\n",
    "sigma = 16\n",
    "alpha = 0.05 / 2\n",
    "mu = 80\n",
    "n = 256\n",
    "\n",
    "z = stats.norm.ppf(1 - alpha) # значение Z-критерия по таблице\n",
    "mu - z * (sigma / np.sqrt(n)), mu + z * (sigma / np.sqrt(n))"
   ]
  },
  {
   "attachments": {},
   "cell_type": "markdown",
   "metadata": {},
   "source": [
    "Ответ: Доверительный 95% интервал для оценки мат ожидания = [78.04, 81.96]"
   ]
  }
 ],
 "metadata": {
  "kernelspec": {
   "display_name": "Python 3",
   "language": "python",
   "name": "python3"
  },
  "language_info": {
   "codemirror_mode": {
    "name": "ipython",
    "version": 3
   },
   "file_extension": ".py",
   "mimetype": "text/x-python",
   "name": "python",
   "nbconvert_exporter": "python",
   "pygments_lexer": "ipython3",
   "version": "3.10.10"
  },
  "orig_nbformat": 4,
  "vscode": {
   "interpreter": {
    "hash": "71bd3c46ae24e4516ad7e47f61b5de6bd4e932ec8f478b50d27c1fdf910d3185"
   }
  }
 },
 "nbformat": 4,
 "nbformat_minor": 2
}
