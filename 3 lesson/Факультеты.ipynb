{
 "cells": [
  {
   "attachments": {},
   "cell_type": "markdown",
   "metadata": {},
   "source": [
    "***В университет на факультеты A и B поступило равное количество студентов, а на факультет C студентов поступило столько же, сколько на A и B вместе. Вероятность того, что студент факультета A сдаст первую сессию, равна 0.8. Для студента факультета B эта вероятность равна 0.7, а для студента факультета C - 0.9. Студент сдал первую сессию.***\n",
    "---\n",
    "- Какова вероятность, что он учится: \n",
    "- a) на факультете A \n",
    "- б) на факультете B \n",
    "- в) на факультете C?"
   ]
  },
  {
   "attachments": {},
   "cell_type": "markdown",
   "metadata": {},
   "source": [
    "H1 = студент был из A факультета\n",
    "\n",
    "H2 = студент был из B факультета\n",
    "\n",
    "H3 = студент был из C факультета"
   ]
  },
  {
   "cell_type": "code",
   "execution_count": 3,
   "metadata": {},
   "outputs": [
    {
     "data": {
      "text/plain": [
       "(0.2608695652173913, 0.15217391304347824, 0.5869565217391305)"
      ]
     },
     "execution_count": 3,
     "metadata": {},
     "output_type": "execute_result"
    }
   ],
   "source": [
    "pA = 0.8\n",
    "qA = 0.2 \n",
    "pB = 0.7\n",
    "qB = 0.3\n",
    "pC = 0.9\n",
    "qC = 0.1\n",
    "\n",
    "H1 = pA * qB * qC\n",
    "H2 = qA * pB * qC \n",
    "H3 = qA * qB * pC \n",
    "\n",
    "A = H1 / (H1 + H2 + H3)\n",
    "B = H2 / (H1 + H2 + H3)\n",
    "C = H3 / (H1 + H2 + H3)\n",
    "\n",
    "A, B, C"
   ]
  },
  {
   "attachments": {},
   "cell_type": "markdown",
   "metadata": {},
   "source": [
    "Ответ: Вероятность, что ученик, который сдал сессию был из:\n",
    "- A факультета = 26%\n",
    "- B факультета = 15.2%\n",
    "- C факультета = 58.69%"
   ]
  }
 ],
 "metadata": {
  "kernelspec": {
   "display_name": "Python 3",
   "language": "python",
   "name": "python3"
  },
  "language_info": {
   "codemirror_mode": {
    "name": "ipython",
    "version": 3
   },
   "file_extension": ".py",
   "mimetype": "text/x-python",
   "name": "python",
   "nbconvert_exporter": "python",
   "pygments_lexer": "ipython3",
   "version": "3.10.10"
  },
  "orig_nbformat": 4,
  "vscode": {
   "interpreter": {
    "hash": "71bd3c46ae24e4516ad7e47f61b5de6bd4e932ec8f478b50d27c1fdf910d3185"
   }
  }
 },
 "nbformat": 4,
 "nbformat_minor": 2
}
