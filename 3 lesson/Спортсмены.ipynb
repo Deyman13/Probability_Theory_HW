{
 "cells": [
  {
   "attachments": {},
   "cell_type": "markdown",
   "metadata": {},
   "source": [
    "***На соревновании по биатлону один из трех спортсменов стреляет и попадает в мишень. Вероятность попадания для первого спортсмена равна 0.9, для второго — 0.8, для третьего — 0.6.***\n",
    "---\n",
    "- Найти вероятность того, что выстрел произведен: \n",
    "\n",
    " - a) первым спортсменом \n",
    " - б) вторым спортсменом \n",
    " - в) третьим спортсменом."
   ]
  },
  {
   "attachments": {},
   "cell_type": "markdown",
   "metadata": {},
   "source": [
    "Будем считать по теореме Байеса\n",
    "\n",
    "- H1 = три стрелка не попали в мишень\n",
    "- H2 = все попали в мишень\n",
    "- H3 = первый попал, другие не попали\n",
    "- H4 = второй попал, другие не попали\n",
    "- H5 = третий попал, другие не попали\n",
    "- А - В мишень попал только один"
   ]
  },
  {
   "attachments": {},
   "cell_type": "markdown",
   "metadata": {},
   "source": [
    "1) Найдем вероятности этих событий"
   ]
  },
  {
   "cell_type": "code",
   "execution_count": 1,
   "metadata": {},
   "outputs": [
    {
     "data": {
      "text/plain": [
       "(0.008000000000000002,\n",
       " 0.43200000000000005,\n",
       " 0.07200000000000001,\n",
       " 0.03200000000000001,\n",
       " 0.012000000000000002)"
      ]
     },
     "execution_count": 1,
     "metadata": {},
     "output_type": "execute_result"
    }
   ],
   "source": [
    "p1 = 0.9\n",
    "q1 = 0.1\n",
    "p2 = 0.8\n",
    "q2 = 0.2\n",
    "p3 = 0.6\n",
    "q3 = 0.4 \n",
    "\n",
    "p_H1 = q1 * q2 * q3\n",
    "p_H1_A = 0\n",
    "\n",
    "p_H2 = p1 * p2 * p3 \n",
    "p_H2_A = 0\n",
    "\n",
    "p_H3 = p1 * q2 * q3 \n",
    "p_H3_A = 1\n",
    "\n",
    "p_H4 = q1 * p2 * q3 \n",
    "p_H4_A = 1\n",
    "\n",
    "p_H5 = q1 * q2 * p3\n",
    "p_H5_A = 1\n",
    "\n",
    "\n",
    "p_H1, p_H2, p_H3, p_H4, p_H5"
   ]
  },
  {
   "attachments": {},
   "cell_type": "markdown",
   "metadata": {},
   "source": [
    "2) Подставим в формулу Байеса значения, удовлетворяющие нас (там где А = 1)"
   ]
  },
  {
   "cell_type": "code",
   "execution_count": 6,
   "metadata": {},
   "outputs": [
    {
     "data": {
      "text/plain": [
       "(0.6206896551724138, 0.2758620689655173, 0.10344827586206898)"
      ]
     },
     "execution_count": 6,
     "metadata": {},
     "output_type": "execute_result"
    }
   ],
   "source": [
    "first = (p_H3 * 1) / ((p_H1 * 0) + (p_H2 * 0) + (p_H3 * 1) + (p_H4 * 1) + (p_H5 * 1))\n",
    "second = (p_H4 * 1) / ((p_H1 * 0) + (p_H2 * 0) + (p_H3 * 1) + (p_H4 * 1) + (p_H5 * 1))\n",
    "third = (p_H5 * 1) / ((p_H1 * 0) + (p_H2 * 0) + (p_H3 * 1) + (p_H4 * 1) + (p_H5 * 1))\n",
    "\n",
    "first, second, third"
   ]
  },
  {
   "attachments": {},
   "cell_type": "markdown",
   "metadata": {},
   "source": [
    "Ответ: Вероятность что это был:\n",
    "- Первый стрелок = 62%\n",
    "- Второй стрелок = 27.58%\n",
    "- Третий стрелок = 10.3%"
   ]
  }
 ],
 "metadata": {
  "kernelspec": {
   "display_name": "Python 3",
   "language": "python",
   "name": "python3"
  },
  "language_info": {
   "codemirror_mode": {
    "name": "ipython",
    "version": 3
   },
   "file_extension": ".py",
   "mimetype": "text/x-python",
   "name": "python",
   "nbconvert_exporter": "python",
   "pygments_lexer": "ipython3",
   "version": "3.10.10"
  },
  "orig_nbformat": 4,
  "vscode": {
   "interpreter": {
    "hash": "71bd3c46ae24e4516ad7e47f61b5de6bd4e932ec8f478b50d27c1fdf910d3185"
   }
  }
 },
 "nbformat": 4,
 "nbformat_minor": 2
}
