{
 "cells": [
  {
   "attachments": {},
   "cell_type": "markdown",
   "metadata": {},
   "source": [
    "***В первом ящике находится 8 мячей, из которых 5 - белые. Во втором ящике - 12 мячей, из которых 5 белых. Из первого ящика вытаскивают случайным образом два мяча, из второго - 4.*** \n",
    "---\n",
    " - Какова вероятность того, что 3 мяча белые?"
   ]
  },
  {
   "attachments": {},
   "cell_type": "markdown",
   "metadata": {},
   "source": [
    "Нам известно, что берется всего 6 шаров (2 из первой, 4 из второй корзины). Необходимо, чтобы было только лишь 3 белых мяча.\n",
    "\n",
    "Это значит, что потребуется рассчитать вероятности для разных комбинаций, которые дадут нам ответ\n",
    "\n",
    "- 0 и 3\n",
    "- 1 и 2\n",
    "- 2 и 1"
   ]
  },
  {
   "attachments": {},
   "cell_type": "markdown",
   "metadata": {},
   "source": [
    "1) Создадим вспомогательные функции и рассчитаем общее количество комбинаций"
   ]
  },
  {
   "cell_type": "code",
   "execution_count": 1,
   "metadata": {},
   "outputs": [
    {
     "data": {
      "text/plain": [
       "(28.0, 495.0)"
      ]
     },
     "execution_count": 1,
     "metadata": {},
     "output_type": "execute_result"
    }
   ],
   "source": [
    "from math import factorial\n",
    "\n",
    "def combination(n, k):\n",
    "    return factorial(n) / (factorial(k) * factorial(n - k))\n",
    "\n",
    "\n",
    "def probability(c, full):\n",
    "    return c / full \n",
    "\n",
    "\n",
    "full_one = factorial(8) / (factorial(2) * factorial(8 - 2))\n",
    "full_two = factorial(12) / (factorial(4) * factorial(12 - 4))\n",
    "\n",
    "full_one, full_two"
   ]
  },
  {
   "attachments": {},
   "cell_type": "markdown",
   "metadata": {},
   "source": [
    "2) Рассчитаем для 3 вариантов их сочетания"
   ]
  },
  {
   "cell_type": "code",
   "execution_count": 4,
   "metadata": {},
   "outputs": [],
   "source": [
    "one_f = combination(3, 2)\n",
    "one_s = combination(5, 3) * combination(7, 1)\n",
    "\n",
    "two_f = combination(5, 1) * combination(3, 1)\n",
    "two_s = combination(5, 2) * combination(7, 2)\n",
    "\n",
    "\n",
    "three_f = combination(5, 2)\n",
    "three_s = combination(5, 1) * combination(7, 3)"
   ]
  },
  {
   "attachments": {},
   "cell_type": "markdown",
   "metadata": {},
   "source": [
    "3) Рассчитаем вероятности и сложим"
   ]
  },
  {
   "cell_type": "code",
   "execution_count": 5,
   "metadata": {},
   "outputs": [
    {
     "data": {
      "text/plain": [
       "0.3686868686868687"
      ]
     },
     "execution_count": 5,
     "metadata": {},
     "output_type": "execute_result"
    }
   ],
   "source": [
    "one = probability(one_f, full_one) * probability(one_s, full_two)\n",
    "two = probability(two_f, full_one) * probability(two_s, full_two)\n",
    "three = probability(three_f, full_one) * probability(three_s, full_two)\n",
    "\n",
    "one + two + three"
   ]
  },
  {
   "attachments": {},
   "cell_type": "markdown",
   "metadata": {},
   "source": [
    "Ответ: Вероятность того, что достанут ровно 3 белых мяча из двух корзин = 36.86 в периоде %"
   ]
  }
 ],
 "metadata": {
  "kernelspec": {
   "display_name": "Python 3",
   "language": "python",
   "name": "python3"
  },
  "language_info": {
   "codemirror_mode": {
    "name": "ipython",
    "version": 3
   },
   "file_extension": ".py",
   "mimetype": "text/x-python",
   "name": "python",
   "nbconvert_exporter": "python",
   "pygments_lexer": "ipython3",
   "version": "3.10.10"
  },
  "orig_nbformat": 4,
  "vscode": {
   "interpreter": {
    "hash": "71bd3c46ae24e4516ad7e47f61b5de6bd4e932ec8f478b50d27c1fdf910d3185"
   }
  }
 },
 "nbformat": 4,
 "nbformat_minor": 2
}
