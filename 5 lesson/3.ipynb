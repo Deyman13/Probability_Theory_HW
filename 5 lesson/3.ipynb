{
 "cells": [
  {
   "attachments": {},
   "cell_type": "markdown",
   "metadata": {},
   "source": [
    "***Проведите тест гипотезы. Продавец утверждает, что средний вес пачки печенья составляет 200 г.\n",
    "Из партии извлечена выборка из 10 пачек. Вес каждой пачки составляет:\n",
    "202, 203, 199, 197, 195, 201, 200, 204, 194, 190.\n",
    "Известно, что их веса распределены нормально.\n",
    "Верно ли утверждение продавца, если учитывать, что доверительная вероятность равна 99%? (Провести двусторонний тест.)***"
   ]
  },
  {
   "attachments": {},
   "cell_type": "markdown",
   "metadata": {},
   "source": [
    "Из этих данных нам известно:\n",
    "- mu = 200 (средний вес одной пачки)\n",
    "- n = 10 (выборка из 10 пачек)\n",
    "- нормальное распределение\n",
    "- доверительная вероятность = 99%, значит, что alpha = 1%\n",
    "- H_0 (нулевая гипотеза) u = u_0\n",
    "- H_1 (альтернативная) u != u_0\n",
    "- неизвестна сигма генеральной совокупности, значит будет использоваться t-критерий\n",
    "- так как необходимо произвести двусторонний тест, то t будет рассчитано, как t(alpha / 2)"
   ]
  },
  {
   "cell_type": "code",
   "execution_count": 7,
   "metadata": {},
   "outputs": [
    {
     "data": {
      "text/plain": [
       "-1.0651074037450896"
      ]
     },
     "execution_count": 7,
     "metadata": {},
     "output_type": "execute_result"
    }
   ],
   "source": [
    "import numpy as np \n",
    "\n",
    "def t(x, mu, sigma, n):\n",
    "    return (x - mu) / (sigma / np.sqrt(n))\n",
    "\n",
    "\n",
    "cook = np.array([202, 203, 199, 197, 195, 201, 200, 204, 194, 190])\n",
    "x = np.mean(cook)\n",
    "mu = 200\n",
    "n = 10\n",
    "alpha = 0.01 / 2\n",
    "sigma = np.std(cook, ddof=1)\n",
    "\n",
    "t_n = t(x, mu, sigma, n)\n",
    "t_n"
   ]
  },
  {
   "attachments": {},
   "cell_type": "markdown",
   "metadata": {},
   "source": [
    "Рассчитаем табличное значение для aplha = 0.01 / 2 = 0.005\n",
    "\n",
    "Выборка у нас из 10, значит смотрим таблицу для ddof = 9 и a = 0.005"
   ]
  },
  {
   "cell_type": "code",
   "execution_count": 8,
   "metadata": {},
   "outputs": [
    {
     "data": {
      "text/plain": [
       "3.2498355440153697"
      ]
     },
     "execution_count": 8,
     "metadata": {},
     "output_type": "execute_result"
    }
   ],
   "source": [
    "import scipy.stats as stats\n",
    "\n",
    "t_t=stats.t.ppf(0.995, 9)\n",
    "t_t"
   ]
  },
  {
   "attachments": {},
   "cell_type": "markdown",
   "metadata": {},
   "source": [
    "Ответ: Так как t(Наблюдаемое) < t(Табличное), принимаем нулевую гипотезу."
   ]
  },
  {
   "attachments": {},
   "cell_type": "markdown",
   "metadata": {},
   "source": [
    "Вывод: печенья из выборки являются печеньями того самого продавца."
   ]
  }
 ],
 "metadata": {
  "kernelspec": {
   "display_name": "Python 3",
   "language": "python",
   "name": "python3"
  },
  "language_info": {
   "codemirror_mode": {
    "name": "ipython",
    "version": 3
   },
   "file_extension": ".py",
   "mimetype": "text/x-python",
   "name": "python",
   "nbconvert_exporter": "python",
   "pygments_lexer": "ipython3",
   "version": "3.10.10"
  },
  "orig_nbformat": 4,
  "vscode": {
   "interpreter": {
    "hash": "71bd3c46ae24e4516ad7e47f61b5de6bd4e932ec8f478b50d27c1fdf910d3185"
   }
  }
 },
 "nbformat": 4,
 "nbformat_minor": 2
}
