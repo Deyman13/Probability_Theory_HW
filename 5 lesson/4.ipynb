{
 "cells": [
  {
   "attachments": {},
   "cell_type": "markdown",
   "metadata": {},
   "source": [
    "***Есть ли статистически значимые различия в росте дочерей?***\n",
    "- Рост матерей 172, 177, 158, 170, 178,175, 164, 160, 169, 165\n",
    "- Рост взрослых дочерей: 173, 175, 162, 174, 175, 168, 155, 170, 160"
   ]
  },
  {
   "cell_type": "code",
   "execution_count": 2,
   "metadata": {},
   "outputs": [
    {
     "data": {
      "text/plain": [
       "Ttest_indResult(statistic=0.24400587215969016, pvalue=0.8101467126543233)"
      ]
     },
     "execution_count": 2,
     "metadata": {},
     "output_type": "execute_result"
    }
   ],
   "source": [
    "import numpy as np \n",
    "import scipy.stats as stats\n",
    "\n",
    "x = np.array([172, 177, 158, 170, 178, 175, 164, 160, 169, 165])\n",
    "y = np.array([173, 175, 162, 174, 175, 168, 155, 170, 160])\n",
    "stats.ttest_ind(x,y)"
   ]
  },
  {
   "attachments": {},
   "cell_type": "markdown",
   "metadata": {},
   "source": [
    "Статистически значимых различий в росте дочерей нет, так как p-value слишком высок"
   ]
  }
 ],
 "metadata": {
  "kernelspec": {
   "display_name": "Python 3",
   "language": "python",
   "name": "python3"
  },
  "language_info": {
   "codemirror_mode": {
    "name": "ipython",
    "version": 3
   },
   "file_extension": ".py",
   "mimetype": "text/x-python",
   "name": "python",
   "nbconvert_exporter": "python",
   "pygments_lexer": "ipython3",
   "version": "3.10.10"
  },
  "orig_nbformat": 4,
  "vscode": {
   "interpreter": {
    "hash": "71bd3c46ae24e4516ad7e47f61b5de6bd4e932ec8f478b50d27c1fdf910d3185"
   }
  }
 },
 "nbformat": 4,
 "nbformat_minor": 2
}
