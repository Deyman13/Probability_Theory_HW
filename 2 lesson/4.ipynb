{
 "cells": [
  {
   "attachments": {},
   "cell_type": "markdown",
   "metadata": {},
   "source": [
    "***В первом ящике находится 10 мячей, из которых 7 - белые. Во втором ящике - 11 мячей, из которых 9 белых. Из каждого ящика вытаскивают случайным образом по два мяча.***\n",
    "---\n",
    "- Какова вероятность того, что все мячи белые?"
   ]
  },
  {
   "attachments": {},
   "cell_type": "markdown",
   "metadata": {},
   "source": [
    "В этой задаче вероятность нам неизвестна, поэтому никакие распределения тут не участвуют. \n",
    "\n",
    "Это стандартная задача на сочетания"
   ]
  },
  {
   "attachments": {},
   "cell_type": "markdown",
   "metadata": {},
   "source": [
    "Нам известно, что в первой корзине из 10 мячей - 7 белые и то, что мы берем 2 мяча из каждой.\n",
    "\n",
    "Соответственно сочетания:\n",
    "- C(7,2)\n",
    "- C(3,0)\n",
    "\n",
    "Во второй корзине аналогично:\n",
    "- C(9,2)\n",
    "- C(2,0)"
   ]
  },
  {
   "cell_type": "code",
   "execution_count": 2,
   "metadata": {},
   "outputs": [
    {
     "data": {
      "text/plain": [
       "(21.0, 36.0)"
      ]
     },
     "execution_count": 2,
     "metadata": {},
     "output_type": "execute_result"
    }
   ],
   "source": [
    "from math import factorial\n",
    "\n",
    "white_first = factorial(7) / (factorial(2) * factorial(7 - 2))\n",
    "white_second = factorial(9) / (factorial(2) * factorial(9 - 2))\n",
    "without_white_first = without_white_second = 1\n",
    "\n",
    "white_first, white_second"
   ]
  },
  {
   "attachments": {},
   "cell_type": "markdown",
   "metadata": {},
   "source": [
    "2) Определяем общее количество комбинаций"
   ]
  },
  {
   "cell_type": "code",
   "execution_count": 3,
   "metadata": {},
   "outputs": [
    {
     "data": {
      "text/plain": [
       "(45.0, 55.0)"
      ]
     },
     "execution_count": 3,
     "metadata": {},
     "output_type": "execute_result"
    }
   ],
   "source": [
    "full_first = factorial(10) / (factorial(2) * factorial(10 - 2))\n",
    "full_second = factorial(11) / (factorial(2) * factorial(11 - 2))\n",
    "\n",
    "full_first, full_second"
   ]
  },
  {
   "attachments": {},
   "cell_type": "markdown",
   "metadata": {},
   "source": [
    "3) Определяем вероятности для мячей из отдельных корзин"
   ]
  },
  {
   "cell_type": "code",
   "execution_count": 4,
   "metadata": {},
   "outputs": [
    {
     "data": {
      "text/plain": [
       "(0.4666666666666667, 0.6545454545454545)"
      ]
     },
     "execution_count": 4,
     "metadata": {},
     "output_type": "execute_result"
    }
   ],
   "source": [
    "p_1 = (white_first * without_white_first) / full_first\n",
    "p_2 = (white_second * without_white_second) / full_second\n",
    "\n",
    "p_1, p_2"
   ]
  },
  {
   "attachments": {},
   "cell_type": "markdown",
   "metadata": {},
   "source": [
    "4) Найдем общую вероятность получения всех четырех белых шаров"
   ]
  },
  {
   "cell_type": "code",
   "execution_count": 5,
   "metadata": {},
   "outputs": [
    {
     "data": {
      "text/plain": [
       "0.3054545454545455"
      ]
     },
     "execution_count": 5,
     "metadata": {},
     "output_type": "execute_result"
    }
   ],
   "source": [
    "p_1 * p_2"
   ]
  },
  {
   "attachments": {},
   "cell_type": "markdown",
   "metadata": {},
   "source": [
    "### **Ответ: Вероятность, что все 4 шара окажутся белыми = 30.5%**"
   ]
  },
  {
   "attachments": {},
   "cell_type": "markdown",
   "metadata": {},
   "source": [
    "- Какова вероятность того, что ровно два мяча белые? "
   ]
  },
  {
   "attachments": {},
   "cell_type": "markdown",
   "metadata": {},
   "source": [
    "1) Найдем сочетания для:\n",
    "- 1 и 1\n",
    "- 2 и 0\n",
    "- 0 и 2"
   ]
  },
  {
   "cell_type": "code",
   "execution_count": 13,
   "metadata": {},
   "outputs": [
    {
     "data": {
      "text/plain": [
       "(0.20484848484848486, 10.0)"
      ]
     },
     "execution_count": 13,
     "metadata": {},
     "output_type": "execute_result"
    }
   ],
   "source": [
    "def combination(n, k):\n",
    "    return factorial(n) / (factorial(k) * factorial(n - k))\n",
    "\n",
    "\n",
    "def probability(c, full):\n",
    "    return c / full\n",
    "\n",
    "\n",
    "one_f = combination(7, 1) * combination(3, 1)\n",
    "one_s = combination(9, 1) * combination(2, 1)\n",
    "\n",
    "two_f = combination(7, 2) \n",
    "two_s = combination(2, 2) \n",
    "\n",
    "three_f = combination(3, 2)\n",
    "three_s = combination(9, 2)\n",
    "\n",
    "\n",
    "first = probability(one_f, full_first) * probability(one_s, full_second)\n",
    "second = probability(two_f, full_first) * probability(two_s, full_second)\n",
    "third = probability(three_f, full_first) * probability(three_s, full_second)\n",
    "\n",
    "x = combination(5, 2)\n",
    "\n",
    "\n",
    "first + second + third"
   ]
  },
  {
   "attachments": {},
   "cell_type": "markdown",
   "metadata": {},
   "source": [
    "### **Ответ: Вероятность того, что ровно 2 мяча белые = 20.5%**"
   ]
  },
  {
   "attachments": {},
   "cell_type": "markdown",
   "metadata": {},
   "source": [
    "- Какова вероятность того, что хотя бы один мяч белый?"
   ]
  },
  {
   "attachments": {},
   "cell_type": "markdown",
   "metadata": {},
   "source": [
    "В этой задаче необходимо воспользоваться обратной вероятностью, а не считать все возможные вариации, как в прошлой задаче."
   ]
  },
  {
   "cell_type": "code",
   "execution_count": 7,
   "metadata": {},
   "outputs": [
    {
     "data": {
      "text/plain": [
       "0.9987878787878788"
      ]
     },
     "execution_count": 7,
     "metadata": {},
     "output_type": "execute_result"
    }
   ],
   "source": [
    "one = combination(3, 2) # 2 других из 3 других первой корзины\n",
    "two = combination(2, 2) # 2 других из 2 других второй корзины\n",
    "\n",
    "x = probability(one, full_first)\n",
    "y = probability(two, full_second)\n",
    "\n",
    "1 - (x * y)"
   ]
  },
  {
   "attachments": {},
   "cell_type": "markdown",
   "metadata": {},
   "source": [
    "### **Ответ: Вероятность того, что хотя бы 1 мяч окажется белым = 99.88%**"
   ]
  }
 ],
 "metadata": {
  "kernelspec": {
   "display_name": "Python 3",
   "language": "python",
   "name": "python3"
  },
  "language_info": {
   "codemirror_mode": {
    "name": "ipython",
    "version": 3
   },
   "file_extension": ".py",
   "mimetype": "text/x-python",
   "name": "python",
   "nbconvert_exporter": "python",
   "pygments_lexer": "ipython3",
   "version": "3.10.10"
  },
  "orig_nbformat": 4,
  "vscode": {
   "interpreter": {
    "hash": "71bd3c46ae24e4516ad7e47f61b5de6bd4e932ec8f478b50d27c1fdf910d3185"
   }
  }
 },
 "nbformat": 4,
 "nbformat_minor": 2
}
