{
 "cells": [
  {
   "attachments": {},
   "cell_type": "markdown",
   "metadata": {},
   "source": [
    "***Из колоды в 52 карты извлекаются случайным образом 4 карты.***\n",
    "---\n",
    "- a) Найти вероятность того, что все карты – крести. "
   ]
  },
  {
   "attachments": {},
   "cell_type": "markdown",
   "metadata": {},
   "source": [
    "52 карты - стандартная колода, в которой находятся 4 масти - трефы, бубны, пики, червы. \n",
    "\n",
    "У каждой из масти есть 13 достоинств, начиная от 2, заканчивая тузом. \n",
    "\n",
    "Вероятность, что все карты крести(трефы) - это сумма вероятностей каждой отдельно взятой карты последовательно.\n"
   ]
  },
  {
   "attachments": {},
   "cell_type": "markdown",
   "metadata": {},
   "source": [
    "Вероятность, что первая карта окажется с мастью крести = 13/52.\n",
    "\n",
    "Вероятность, что вторая взятая карта после первой тоже будет крести = 12/51, так как:\n",
    " - Мы уже взяли одну карту крести, соответственно удаляем ее из списка \n",
    " - И так как на одну карту стало меньше - уменьшаем и общее кол-во карт."
   ]
  },
  {
   "cell_type": "code",
   "execution_count": 2,
   "metadata": {},
   "outputs": [
    {
     "data": {
      "text/plain": [
       "(0.25, 0.23529411764705882, 0.22, 0.20408163265306123)"
      ]
     },
     "execution_count": 2,
     "metadata": {},
     "output_type": "execute_result"
    }
   ],
   "source": [
    "one = 13/52\n",
    "two = 12/51\n",
    "three = 11/50\n",
    "four = 10/49\n",
    "\n",
    "one, two, three, four"
   ]
  },
  {
   "attachments": {},
   "cell_type": "markdown",
   "metadata": {},
   "source": [
    "Умножая эти вероятности, мы получим полную вероятность того, что все карты - крести."
   ]
  },
  {
   "cell_type": "code",
   "execution_count": 3,
   "metadata": {},
   "outputs": [
    {
     "data": {
      "text/plain": [
       "0.0026410564225690276"
      ]
     },
     "execution_count": 3,
     "metadata": {},
     "output_type": "execute_result"
    }
   ],
   "source": [
    "one * two * three * four"
   ]
  },
  {
   "attachments": {},
   "cell_type": "markdown",
   "metadata": {},
   "source": [
    "Ответ: с вероятностью в 0.26% мы получим 4 карты крести подряд"
   ]
  },
  {
   "attachments": {},
   "cell_type": "markdown",
   "metadata": {},
   "source": [
    "- б) Найти вероятность, что среди 4-х карт окажется хотя бы один туз."
   ]
  },
  {
   "cell_type": "code",
   "execution_count": 4,
   "metadata": {},
   "outputs": [],
   "source": [
    "from math import factorial"
   ]
  },
  {
   "attachments": {},
   "cell_type": "markdown",
   "metadata": {},
   "source": [
    "Так как у нас всего 4 масти, значит всего 4 туза.\n",
    "\n",
    "1) Определяем общее количество комбинаций"
   ]
  },
  {
   "cell_type": "code",
   "execution_count": 8,
   "metadata": {},
   "outputs": [
    {
     "data": {
      "text/plain": [
       "270725.0"
      ]
     },
     "execution_count": 8,
     "metadata": {},
     "output_type": "execute_result"
    }
   ],
   "source": [
    "full = factorial(52) / (factorial(4) * factorial(52 - 4))\n",
    "full"
   ]
  },
  {
   "attachments": {},
   "cell_type": "markdown",
   "metadata": {},
   "source": [
    "2) Определяем количество комбинаций без туза"
   ]
  },
  {
   "cell_type": "code",
   "execution_count": 11,
   "metadata": {},
   "outputs": [
    {
     "data": {
      "text/plain": [
       "194580.0"
      ]
     },
     "execution_count": 11,
     "metadata": {},
     "output_type": "execute_result"
    }
   ],
   "source": [
    "no_tuz = factorial(48) / (factorial(4) * factorial(48 - 4))\n",
    "no_tuz"
   ]
  },
  {
   "attachments": {},
   "cell_type": "markdown",
   "metadata": {},
   "source": [
    "Соответственно вычитаем из 100% вероятность того, что не будет туза вообще."
   ]
  },
  {
   "cell_type": "code",
   "execution_count": 13,
   "metadata": {},
   "outputs": [
    {
     "data": {
      "text/plain": [
       "0.2812632745405854"
      ]
     },
     "execution_count": 13,
     "metadata": {},
     "output_type": "execute_result"
    }
   ],
   "source": [
    "1 - (no_tuz / full)"
   ]
  },
  {
   "attachments": {},
   "cell_type": "markdown",
   "metadata": {},
   "source": [
    "Ответ: С вероятностью в 28.1% мы получим хотя бы 1 туз в рукаве."
   ]
  }
 ],
 "metadata": {
  "kernelspec": {
   "display_name": "Python 3",
   "language": "python",
   "name": "python3"
  },
  "language_info": {
   "codemirror_mode": {
    "name": "ipython",
    "version": 3
   },
   "file_extension": ".py",
   "mimetype": "text/x-python",
   "name": "python",
   "nbconvert_exporter": "python",
   "pygments_lexer": "ipython3",
   "version": "3.10.9"
  },
  "orig_nbformat": 4,
  "vscode": {
   "interpreter": {
    "hash": "71bd3c46ae24e4516ad7e47f61b5de6bd4e932ec8f478b50d27c1fdf910d3185"
   }
  }
 },
 "nbformat": 4,
 "nbformat_minor": 2
}
